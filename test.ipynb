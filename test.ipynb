{
 "cells": [
  {
   "cell_type": "code",
   "execution_count": 1,
   "metadata": {},
   "outputs": [],
   "source": [
    "import numpy as np\n",
    "import cv2\n",
    "import dlib"
   ]
  },
  {
   "cell_type": "code",
   "execution_count": 2,
   "metadata": {},
   "outputs": [],
   "source": [
    "import sys\n",
    "sys.path.append(\"/home/yonathan/Documents/projects/faceSwap\")\n",
    "import faceSwap"
   ]
  },
  {
   "cell_type": "code",
   "execution_count": 3,
   "metadata": {},
   "outputs": [],
   "source": [
    "    def landmark_detection(image, returnImage=False):\n",
    "        \"\"\"Generate facial landmark points of a give image.\n",
    "\n",
    "        Parameters\n",
    "        ----------\n",
    "        image : str\n",
    "            image file path.\n",
    "\n",
    "        Returns\n",
    "        -------\n",
    "        landmark_points : list\n",
    "            return a list of tuple integer of the landmark points.\n",
    "        img : numpy array\n",
    "            return an image where the landmark points draw on the the image.\n",
    "\n",
    "        \"\"\"\n",
    "\n",
    "        # laod an image then convert it to grey scale\n",
    "        img = cv2.imread(image)\n",
    "        img_gray = cv2.cvtColor(img, cv2.COLOR_BGR2GRAY)\n",
    "\n",
    "        # detect the face then find the landmarks\n",
    "        detector = dlib.get_frontal_face_detector()\n",
    "        predictor = dlib.shape_predictor(\n",
    "            'shape_predictor_68_face_landmarks.dat')\n",
    "\n",
    "        faces = detector(img_gray)\n",
    "        faces_landmark_points = []\n",
    "        for face in faces:\n",
    "            landmarks = predictor(img_gray, face)\n",
    "            landmark_points = []\n",
    "            for n in range(68):\n",
    "                x = landmarks.part(n).x\n",
    "                y = landmarks.part(n).y\n",
    "                landmark_points.append((int(x), int(y)))\n",
    "\n",
    "                cv2.circle(img, (x, y), 3, (0, 0, 255), -1)\n",
    "\n",
    "            faces_landmark_points.append(landmark_points)\n",
    "\n",
    "        if returnImage:\n",
    "            return faces_landmark_points, img\n",
    "        else:\n",
    "            return faces_landmark_points"
   ]
  },
  {
   "cell_type": "code",
   "execution_count": 4,
   "metadata": {},
   "outputs": [],
   "source": [
    "image = \"/home/yonathan/Documents/projects/faceSwap/images/original_images/anchorman.jpg\""
   ]
  },
  {
   "cell_type": "code",
   "execution_count": 5,
   "metadata": {},
   "outputs": [],
   "source": [
    "faces_landmark_points, mod_img = landmark_detection(image, True)"
   ]
  },
  {
   "cell_type": "code",
   "execution_count": 6,
   "metadata": {},
   "outputs": [],
   "source": [
    "faces = len(faces_landmark_points)"
   ]
  },
  {
   "cell_type": "code",
   "execution_count": 17,
   "metadata": {},
   "outputs": [],
   "source": [
    "def choose_largest_face(faces_landmark_points, img):\n",
    "\n",
    "    size = 0\n",
    "    faces = np.array(faces_landmark_points).shape[0]\n",
    "    for face in range(faces):\n",
    "        boundingRect = cv2.boundingRect(np.array(faces_landmark_points[face]))\n",
    "\n",
    "        face_size = boundingRect[2] * boundingRect[3]\n",
    "        if face_size > size:\n",
    "            size = face_size\n",
    "            larger_face_index = face\n",
    "\n",
    "    largest_face_landmark_points = faces_landmark_points[larger_face_index]\n",
    "    return largest_face_landmark_points"
   ]
  },
  {
   "cell_type": "code",
   "execution_count": 18,
   "metadata": {},
   "outputs": [
    {
     "data": {
      "text/plain": [
       "(68, 2)"
      ]
     },
     "execution_count": 18,
     "metadata": {},
     "output_type": "execute_result"
    }
   ],
   "source": [
    "landmark_points = faces_landmark_points[0]\n",
    "np.array(landmark_points).shape"
   ]
  },
  {
   "cell_type": "code",
   "execution_count": 19,
   "metadata": {},
   "outputs": [
    {
     "data": {
      "text/plain": [
       "(253, 318, 162, 158)"
      ]
     },
     "execution_count": 19,
     "metadata": {},
     "output_type": "execute_result"
    }
   ],
   "source": [
    "boundingRect = cv2.boundingRect(np.array(landmark_points))\n",
    "boundingRect"
   ]
  },
  {
   "cell_type": "code",
   "execution_count": 20,
   "metadata": {},
   "outputs": [
    {
     "data": {
      "text/plain": [
       "14560"
      ]
     },
     "execution_count": 20,
     "metadata": {},
     "output_type": "execute_result"
    }
   ],
   "source": [
    "size = (boundingRect[2] - boundingRect[0]) * (boundingRect[3] - boundingRect[1])\n",
    "size"
   ]
  },
  {
   "cell_type": "code",
   "execution_count": null,
   "metadata": {},
   "outputs": [],
   "source": []
  },
  {
   "cell_type": "code",
   "execution_count": 21,
   "metadata": {},
   "outputs": [],
   "source": [
    "img = cv2.imread(image)\n",
    "index = choose_largest_face(faces_landmark_points, img)\n",
    "cv2.imshow(\"Image111\", img)\n",
    "cv2.imshow(\"Mod\", mod_img)\n",
    "cv2.waitKey(0)\n",
    "cv2.destroyAllWindows()"
   ]
  },
  {
   "cell_type": "code",
   "execution_count": null,
   "metadata": {},
   "outputs": [],
   "source": []
  }
 ],
 "metadata": {
  "kernelspec": {
   "display_name": "Python 3",
   "language": "python",
   "name": "python3"
  },
  "language_info": {
   "codemirror_mode": {
    "name": "ipython",
    "version": 3
   },
   "file_extension": ".py",
   "mimetype": "text/x-python",
   "name": "python",
   "nbconvert_exporter": "python",
   "pygments_lexer": "ipython3",
   "version": "3.6.8"
  }
 },
 "nbformat": 4,
 "nbformat_minor": 2
}
