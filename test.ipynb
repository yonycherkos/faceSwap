{
 "cells": [
  {
   "cell_type": "code",
   "execution_count": 8,
   "metadata": {},
   "outputs": [],
   "source": [
    "import numpy as np\n",
    "import cv2\n",
    "import dlib"
   ]
  },
  {
   "cell_type": "code",
   "execution_count": 9,
   "metadata": {},
   "outputs": [],
   "source": [
    "def matchImageSize(image1, image2):\n",
    "\n",
    "        img1 = cv2.imread(image1)\n",
    "        img2 = cv2.imread(image2)\n",
    "\n",
    "        dsize = (img2.shape[1], img2.shape[0])\n",
    "        img1 = cv2.resize(img1, dsize)\n",
    "        return img1, img2"
   ]
  },
  {
   "cell_type": "code",
   "execution_count": 12,
   "metadata": {},
   "outputs": [
    {
     "name": "stdout",
     "output_type": "stream",
     "text": [
      "image1 shape:  (480, 640, 3)\n",
      "image2 shape:  (1482, 1059, 3)\n"
     ]
    }
   ],
   "source": [
    "image1 = \"images/original_images/yony.jpg\"\n",
    "image2 = \"images/original_images/white.jpg\"\n",
    "\n",
    "img1 = cv2.imread(image1)\n",
    "img2 = cv2.imread(image2)\n",
    "    \n",
    "print(\"image1 shape: \", img1.shape)\n",
    "print(\"image2 shape: \", img2.shape)\n",
    "\n",
    "cv2.imshow(\"img1\", img1)\n",
    "cv2.imshow(\"img2\", img2)\n",
    "cv2.waitKey(0)\n",
    "cv2.destroyAllWindows()"
   ]
  },
  {
   "cell_type": "code",
   "execution_count": 13,
   "metadata": {},
   "outputs": [
    {
     "name": "stdout",
     "output_type": "stream",
     "text": [
      "image1 shape:  (1482, 1059, 3)\n",
      "image2 shape:  (1482, 1059, 3)\n"
     ]
    }
   ],
   "source": [
    "img1, img2 = matchImageSize(image1, image2)\n",
    "\n",
    "print(\"image1 shape: \", img1.shape)\n",
    "print(\"image2 shape: \", img2.shape)\n",
    "\n",
    "cv2.imshow(\"img1\", img1)\n",
    "cv2.imshow(\"img2\", img2)\n",
    "cv2.waitKey(0)\n",
    "cv2.destroyAllWindows()"
   ]
  },
  {
   "cell_type": "code",
   "execution_count": 14,
   "metadata": {},
   "outputs": [],
   "source": [
    "import faceSwap"
   ]
  },
  {
   "cell_type": "code",
   "execution_count": 15,
   "metadata": {},
   "outputs": [],
   "source": [
    "image1 = \"images/original_images/yony.jpg\"\n",
    "image2 = \"images/original_images/x-men-origins-wolverine-ss1.jpg\"\n",
    "faceSwap = faceSwap.FaceSwap(image1, image2)"
   ]
  },
  {
   "cell_type": "code",
   "execution_count": 19,
   "metadata": {},
   "outputs": [
    {
     "name": "stdout",
     "output_type": "stream",
     "text": [
      "Help on method landmark_detection in module faceSwap:\n",
      "\n",
      "landmark_detection(img) method of faceSwap.FaceSwap instance\n",
      "    Generate facial landmark points of a give image.\n",
      "    \n",
      "    Parameters\n",
      "    ----------\n",
      "    image : str\n",
      "        image file path.\n",
      "    \n",
      "    Returns\n",
      "    -------\n",
      "    landmark_points : list\n",
      "        return a list of tuple integer of the landmark points.\n",
      "\n"
     ]
    }
   ],
   "source": [
    "help(faceSwap.landmark_detection)"
   ]
  },
  {
   "cell_type": "code",
   "execution_count": 21,
   "metadata": {},
   "outputs": [
    {
     "data": {
      "text/plain": [
       "[]"
      ]
     },
     "execution_count": 21,
     "metadata": {},
     "output_type": "execute_result"
    }
   ],
   "source": [
    "img2 = cv2.imread(image2)\n",
    "landmark_points = faceSwap.landmark_detection(img2)\n",
    "landmark_points"
   ]
  },
  {
   "cell_type": "code",
   "execution_count": null,
   "metadata": {},
   "outputs": [],
   "source": []
  }
 ],
 "metadata": {
  "kernelspec": {
   "display_name": "Python 3",
   "language": "python",
   "name": "python3"
  },
  "language_info": {
   "codemirror_mode": {
    "name": "ipython",
    "version": 3
   },
   "file_extension": ".py",
   "mimetype": "text/x-python",
   "name": "python",
   "nbconvert_exporter": "python",
   "pygments_lexer": "ipython3",
   "version": "3.6.8"
  }
 },
 "nbformat": 4,
 "nbformat_minor": 2
}
