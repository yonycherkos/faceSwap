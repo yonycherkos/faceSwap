{
 "cells": [
  {
   "cell_type": "code",
   "execution_count": 15,
   "metadata": {},
   "outputs": [],
   "source": [
    "# import the necessary libraries\n",
    "import numpy as np\n",
    "import cv2\n",
    "import dlib"
   ]
  },
  {
   "cell_type": "code",
   "execution_count": 19,
   "metadata": {},
   "outputs": [],
   "source": [
    "def landmark_detection(image):\n",
    "    \"\"\"Generate facial landmark points of a give image.\n",
    "\n",
    "    Parameters\n",
    "    ----------\n",
    "    image : str\n",
    "        image file path.\n",
    "\n",
    "    Returns\n",
    "    -------\n",
    "    landmark_points : list\n",
    "        return a list of tuple integer of the landmark points.\n",
    "    img : numpy array\n",
    "        return an image where the landmark points draw on the the image.\n",
    "\n",
    "    \"\"\"\n",
    "\n",
    "    # laod an image then convert it to grey scale\n",
    "    img = cv2.imread(image)\n",
    "    img_gray = cv2.cvtColor(img, cv2.COLOR_BGR2GRAY)\n",
    "\n",
    "    # detect the face then find the landmarks\n",
    "    detector = dlib.get_frontal_face_detector()\n",
    "    predictor = dlib.shape_predictor('shape_predictor_68_face_landmarks.dat')\n",
    "\n",
    "    faces = detector(img_gray)\n",
    "    faces_landmark_points = []\n",
    "    for face in faces:\n",
    "        landmarks = predictor(img_gray, face)\n",
    "        landmark_points = []\n",
    "        for n in range(68):\n",
    "            x = landmarks.part(n).x\n",
    "            y = landmarks.part(n).y\n",
    "            landmark_points.append((int(x), int(y)))\n",
    "\n",
    "            cv2.circle(img, (x, y), 3, (0, 0, 255), -1)\n",
    "\n",
    "        faces_landmark_points.append(landmark_points)\n",
    "\n",
    "    return faces_landmark_points, img"
   ]
  },
  {
   "cell_type": "code",
   "execution_count": 20,
   "metadata": {},
   "outputs": [],
   "source": [
    "image = \"images/original_images/ted_cruz.jpg\"\n",
    "faces_landmark_points, landmark_points_img = landmark_detection(image)\n",
    "\n",
    "# display the landmark points\n",
    "cv2.imshow(\"landmark points\", landmark_points_img)\n",
    "cv2.waitKey(0)\n",
    "cv2.destroyAllWindows()"
   ]
  },
  {
   "cell_type": "code",
   "execution_count": 21,
   "metadata": {},
   "outputs": [
    {
     "data": {
      "text/plain": [
       "(1, 68, 2)"
      ]
     },
     "execution_count": 21,
     "metadata": {},
     "output_type": "execute_result"
    }
   ],
   "source": [
    "np.array(faces_landmark_points).shape"
   ]
  },
  {
   "cell_type": "code",
   "execution_count": 50,
   "metadata": {},
   "outputs": [],
   "source": [
    "image1 = 'images/original_images/jim-carrey-on-the-car-oh-really-meme.jpg'\n",
    "image2 = 'images/original_images/young_couple.jpg'"
   ]
  },
  {
   "cell_type": "code",
   "execution_count": 51,
   "metadata": {},
   "outputs": [],
   "source": [
    "# find landmark points of the images\n",
    "faces_landmark_points1, landmarks_img1 = landmark_detection(image1)\n",
    "faces_landmark_points2, landmarks_img2 = landmark_detection(image2)"
   ]
  },
  {
   "cell_type": "code",
   "execution_count": 52,
   "metadata": {},
   "outputs": [],
   "source": [
    "cv2.imshow(\"landmarks_img1\", landmarks_img1)\n",
    "cv2.imshow(\"landmarks_img2\", landmarks_img2)\n",
    "cv2.waitKey(0)\n",
    "cv2.destroyAllWindows()"
   ]
  },
  {
   "cell_type": "code",
   "execution_count": 53,
   "metadata": {},
   "outputs": [
    {
     "name": "stdout",
     "output_type": "stream",
     "text": [
      "shape of landmark points1:  (1, 68, 2)\n",
      "shape of landmark points2:  (2, 68, 2)\n"
     ]
    }
   ],
   "source": [
    "print(\"shape of landmark points1: \", np.array(faces_landmark_points1).shape)\n",
    "print(\"shape of landmark points2: \", np.array(faces_landmark_points2).shape)"
   ]
  },
  {
   "cell_type": "code",
   "execution_count": null,
   "metadata": {},
   "outputs": [],
   "source": [
    "def applyConvexHull(points1, points2):\n",
    "    \"\"\"Find the convex hull of each landmark points.\n",
    "\n",
    "    Parameters\n",
    "    ----------\n",
    "    points1 : list\n",
    "        a list of tuple integer of landmark points 1.\n",
    "    points2 : list\n",
    "        a list of tuple integer of landmark points 2.\n",
    "\n",
    "    Returns\n",
    "    -------\n",
    "    hull1 : list\n",
    "        return a list of tuple integer of convex hull points bounding landmark points 1.\n",
    "    hull2 : list\n",
    "        return a list of tuple integer of convex hull points bounding landmark points 2.\n",
    "    \"\"\"\n",
    "\n",
    "    # Find convex hull of the two landmark points\n",
    "    hull1 = []\n",
    "    hull2 = []\n",
    "\n",
    "    hullIndex1 = cv2.convexHull(np.array(points1), returnPoints=False)\n",
    "    hullIndex2 = cv2.convexHull(np.array(points2), returnPoints=False)\n",
    "\n",
    "    # use the minimum number of convex hull points to avoid index out of bound.\n",
    "    if len(hullIndex1) < len(hullIndex2):\n",
    "        hullIndex = hullIndex1\n",
    "    else:\n",
    "        hullIndex = hullIndex2\n",
    "\n",
    "    for i in range(len(hullIndex)):\n",
    "        hull1.append(points1[int(hullIndex[i])])\n",
    "        hull2.append(points2[int(hullIndex[i])])\n",
    "\n",
    "    return hull1, hull2"
   ]
  },
  {
   "cell_type": "code",
   "execution_count": 54,
   "metadata": {},
   "outputs": [],
   "source": [
    "\n",
    "def applyConvexHull(faces_landmark_points1, faces_landmark_points2):\n",
    "    \"\"\"Find the convex hull of each landmark points.\n",
    "\n",
    "    Parameters\n",
    "    ----------\n",
    "    points1 : list\n",
    "        a list of tuple integer of landmark points 1.\n",
    "    points2 : list\n",
    "        a list of tuple integer of landmark points 2.\n",
    "\n",
    "    Returns\n",
    "    -------\n",
    "    hull1 : list\n",
    "        return a list of tuple integer of convex hull points bounding landmark points 1.\n",
    "    hull2 : list\n",
    "        return a list of tuple integer of convex hull points bounding landmark points 2.\n",
    "    \"\"\"\n",
    "\n",
    "    faces1 = np.array(faces_landmark_points1).shape[0]\n",
    "    faces2 = np.array(faces_landmark_points2).shape[0]\n",
    "\n",
    "    if faces2 > faces1:\n",
    "        faces = faces2\n",
    "    else:\n",
    "        faces = faces1\n",
    "\n",
    "    faces_hull1 = []\n",
    "    faces_hull2 = []\n",
    "    for face in range(faces):\n",
    "        # Find convex hull of the two landmark points\n",
    "        hull1 = []\n",
    "        hull2 = []\n",
    "\n",
    "        landmark_points1 = faces_landmark_points1[face]\n",
    "        landmark_points2 = faces_landmark_points2[face]\n",
    "\n",
    "        hullIndex1 = cv2.convexHull(\n",
    "            np.array(landmark_points1), returnPoints=False)\n",
    "        hullIndex2 = cv2.convexHull(\n",
    "            np.array(landmark_points2), returnPoints=False)\n",
    "\n",
    "        # use the minimum number of convex hull points to avoid index out of bound.\n",
    "        if len(hullIndex1) < len(hullIndex2):\n",
    "            hullIndex = hullIndex1\n",
    "        else:\n",
    "            hullIndex = hullIndex2\n",
    "\n",
    "        for i in range(len(hullIndex)):\n",
    "            hull1.append(landmark_points2[int(hullIndex[i])])\n",
    "            hull2.append(landmark_points2[int(hullIndex[i])])\n",
    "\n",
    "        faces_hull1.append(hull1)\n",
    "        faces_hull2.append(hull2)\n",
    "\n",
    "    return faces_hull1, faces_hull2"
   ]
  },
  {
   "cell_type": "code",
   "execution_count": 55,
   "metadata": {},
   "outputs": [
    {
     "ename": "IndexError",
     "evalue": "list index out of range",
     "output_type": "error",
     "traceback": [
      "\u001b[0;31m---------------------------------------------------------------------------\u001b[0m",
      "\u001b[0;31mIndexError\u001b[0m                                Traceback (most recent call last)",
      "\u001b[0;32m<ipython-input-55-8d3043e16a9b>\u001b[0m in \u001b[0;36m<module>\u001b[0;34m\u001b[0m\n\u001b[1;32m      1\u001b[0m \u001b[0;31m# find the convex hull bounding the landmark points of the images\u001b[0m\u001b[0;34m\u001b[0m\u001b[0;34m\u001b[0m\u001b[0;34m\u001b[0m\u001b[0m\n\u001b[0;32m----> 2\u001b[0;31m \u001b[0mfaces_hull1\u001b[0m\u001b[0;34m,\u001b[0m \u001b[0mfaces_hull2\u001b[0m \u001b[0;34m=\u001b[0m \u001b[0mapplyConvexHull\u001b[0m\u001b[0;34m(\u001b[0m\u001b[0mfaces_landmark_points1\u001b[0m\u001b[0;34m,\u001b[0m \u001b[0mfaces_landmark_points2\u001b[0m\u001b[0;34m)\u001b[0m\u001b[0;34m\u001b[0m\u001b[0;34m\u001b[0m\u001b[0m\n\u001b[0m",
      "\u001b[0;32m<ipython-input-54-8658e6d1b02b>\u001b[0m in \u001b[0;36mapplyConvexHull\u001b[0;34m(faces_landmark_points1, faces_landmark_points2)\u001b[0m\n\u001b[1;32m     32\u001b[0m         \u001b[0mhull2\u001b[0m \u001b[0;34m=\u001b[0m \u001b[0;34m[\u001b[0m\u001b[0;34m]\u001b[0m\u001b[0;34m\u001b[0m\u001b[0;34m\u001b[0m\u001b[0m\n\u001b[1;32m     33\u001b[0m \u001b[0;34m\u001b[0m\u001b[0m\n\u001b[0;32m---> 34\u001b[0;31m         \u001b[0mlandmark_points1\u001b[0m \u001b[0;34m=\u001b[0m \u001b[0mfaces_landmark_points1\u001b[0m\u001b[0;34m[\u001b[0m\u001b[0mface\u001b[0m\u001b[0;34m]\u001b[0m\u001b[0;34m\u001b[0m\u001b[0;34m\u001b[0m\u001b[0m\n\u001b[0m\u001b[1;32m     35\u001b[0m         \u001b[0mlandmark_points2\u001b[0m \u001b[0;34m=\u001b[0m \u001b[0mfaces_landmark_points2\u001b[0m\u001b[0;34m[\u001b[0m\u001b[0mface\u001b[0m\u001b[0;34m]\u001b[0m\u001b[0;34m\u001b[0m\u001b[0;34m\u001b[0m\u001b[0m\n\u001b[1;32m     36\u001b[0m \u001b[0;34m\u001b[0m\u001b[0m\n",
      "\u001b[0;31mIndexError\u001b[0m: list index out of range"
     ]
    }
   ],
   "source": [
    "# find the convex hull bounding the landmark points of the images\n",
    "# faces_hull1, faces_hull2 = applyConvexHull(faces_landmark_points1, faces_landmark_points2)\n",
    "dict = {}\n",
    "for i in land:\n",
    "    faces_hull1, faces_hull2 = applyConvexHull(faces_landmark_points1, faces_landmark_points2)\n",
    "    dict[i]=[faces_hull1, faces_hull2]\n",
    "\n",
    "    "
   ]
  },
  {
   "cell_type": "code",
   "execution_count": 49,
   "metadata": {},
   "outputs": [
    {
     "name": "stdout",
     "output_type": "stream",
     "text": [
      "length hull1:  (1, 20, 2)\n",
      "length hull2:  (1, 20, 2)\n"
     ]
    }
   ],
   "source": [
    "print(\"length hull1: \", np.array(faces_hull1).shape)\n",
    "print(\"length hull2: \", np.array(faces_hull2).shape)"
   ]
  },
  {
   "cell_type": "code",
   "execution_count": 10,
   "metadata": {},
   "outputs": [],
   "source": [
    "def approachs(approach, hull1, hull2, landmark_points1, landmark_points2):\n",
    "    \"\"\"use convexHull or landmark_points to calculate delauney triangulation.\n",
    "\n",
    "    Parameters\n",
    "    ----------\n",
    "    approach : str\n",
    "        takes either 'approach1' for convexHUll or 'approach2' for landmark points.\n",
    "    hull1 : list\n",
    "        a list of tuple integer of convex hull points bounding landmark points 1\n",
    "    hull2 : type\n",
    "        a list of tuple integer of convex hull points bounding landmark points 2\n",
    "    landmark_points1 : list\n",
    "        a list of tuple integer of landmark points of image1\n",
    "    landmark_points2 : list\n",
    "        a list of tuple integer of landmark points of image2.\n",
    "\n",
    "    Returns\n",
    "    -------\n",
    "    points1 : list\n",
    "        a list of tuple integer of either hull 1 or landmark points 1.\n",
    "    points2 : list\n",
    "        a list of tuple integer of either hull 2 or landmark points 2.\n",
    "\n",
    "    \"\"\"\n",
    "\n",
    "    # use the two approachs\n",
    "    if approach == \"approach1\":\n",
    "        points1 = hull1\n",
    "        points2 = hull2\n",
    "    else:\n",
    "        points1 = landmark_points1\n",
    "        points2 = landmark_points2\n",
    "\n",
    "    return points1, points2"
   ]
  },
  {
   "cell_type": "code",
   "execution_count": 11,
   "metadata": {},
   "outputs": [],
   "source": [
    "approach = \"approach1\"\n",
    "points1, points2 = approachs(approach, hull1, hull2, landmark_points1, landmark_points2)"
   ]
  },
  {
   "cell_type": "code",
   "execution_count": 12,
   "metadata": {},
   "outputs": [],
   "source": [
    "def calculateDelaunayTriangles(image, points):\n",
    "    \"\"\"Short summary.\n",
    "\n",
    "    Parameters\n",
    "    ----------\n",
    "    image : type\n",
    "        Description of parameter `image`.\n",
    "    points : type\n",
    "        Description of parameter `points`.\n",
    "\n",
    "    Returns\n",
    "    -------\n",
    "    type\n",
    "        Description of returned object.\n",
    "\n",
    "    \"\"\"\n",
    "\n",
    "    img = cv2.imread(image)\n",
    "    rect = (0, 0, img.shape[1], img.shape[0])\n",
    "\n",
    "    subdiv = cv2.Subdiv2D(rect)\n",
    "    subdiv.insert(points)\n",
    "    triangleList = subdiv.getTriangleList()\n",
    "\n",
    "    delaunayTri_indexes = []\n",
    "\n",
    "\n",
    "    for t in triangleList:\n",
    "\n",
    "        pt1 = (t[0], t[1])\n",
    "        pt2 = (t[2], t[3])\n",
    "        pt3 = (t[4], t[5])\n",
    "        pts = [pt1, pt2, pt3]\n",
    "\n",
    "        # draw the Triangulation\n",
    "        cv2.line(img, pt1, pt2, (0, 0, 255), 2)\n",
    "        cv2.line(img, pt2, pt3, (0, 0, 255), 2)\n",
    "        cv2.line(img, pt1, pt3, (0, 0, 255), 2)\n",
    "\n",
    "        index = []\n",
    "        #Get face-points (from 68 face detector) by coordinates\n",
    "        for i in range(3):\n",
    "            for j in range(0, len(points)):\n",
    "                if(pts[i][0] == points[j][0] and pts[i][1] == points[j][1]):\n",
    "                    index.append(j)\n",
    "        # Three points form a triangle\n",
    "        if len(index) == 3:\n",
    "            delaunayTri_indexes.append((index[0], index[1], index[2]))\n",
    "\n",
    "    return delaunayTri_indexes, img"
   ]
  },
  {
   "cell_type": "code",
   "execution_count": 13,
   "metadata": {},
   "outputs": [],
   "source": [
    "# calculate the delauney triangulations\n",
    "triangulation_indexes1, triangulation_img1 = calculateDelaunayTriangles(image1, points1)\n",
    "triangulation_indexes2, triangulation_img2 = calculateDelaunayTriangles(image2, points2)"
   ]
  },
  {
   "cell_type": "code",
   "execution_count": 15,
   "metadata": {},
   "outputs": [
    {
     "data": {
      "text/plain": [
       "list"
      ]
     },
     "execution_count": 15,
     "metadata": {},
     "output_type": "execute_result"
    }
   ],
   "source": [
    "type(triangulation_indexes1)"
   ]
  },
  {
   "cell_type": "code",
   "execution_count": 16,
   "metadata": {},
   "outputs": [
    {
     "data": {
      "text/plain": [
       "numpy.ndarray"
      ]
     },
     "execution_count": 16,
     "metadata": {},
     "output_type": "execute_result"
    }
   ],
   "source": [
    "type(triangulation_img1)"
   ]
  },
  {
   "cell_type": "code",
   "execution_count": 17,
   "metadata": {},
   "outputs": [],
   "source": [
    "def applyAffineTransform(src, srcTri, dstTri, dsize) :\n",
    "\n",
    "    # Given a pair of triangles, find the affine transform.\n",
    "    warpMat = cv2.getAffineTransform( np.float32(srcTri), np.float32(dstTri) )\n",
    "\n",
    "    # Apply the Affine Transform just found to the src image\n",
    "    dst = cv2.warpAffine( src, warpMat, (dsize[0], dsize[1]), None, flags=cv2.INTER_LINEAR, borderMode=cv2.BORDER_REFLECT_101 )\n",
    "\n",
    "    return dst"
   ]
  },
  {
   "cell_type": "code",
   "execution_count": 19,
   "metadata": {},
   "outputs": [
    {
     "name": "stdout",
     "output_type": "stream",
     "text": [
      "Help on built-in function getAffineTransform:\n",
      "\n",
      "getAffineTransform(...)\n",
      "    getAffineTransform(src, dst) -> retval\n",
      "    .   @overload\n",
      "\n"
     ]
    }
   ],
   "source": [
    "help(cv2.getAffineTransform)"
   ]
  },
  {
   "cell_type": "code",
   "execution_count": 21,
   "metadata": {},
   "outputs": [],
   "source": [
    "# load and read the images\n",
    "img1 = cv2.imread(image1)\n",
    "img2 = cv2.imread(image2)\n",
    "img2_original = np.copy(img2)"
   ]
  },
  {
   "cell_type": "code",
   "execution_count": 23,
   "metadata": {},
   "outputs": [
    {
     "data": {
      "text/plain": [
       "numpy.ndarray"
      ]
     },
     "execution_count": 23,
     "metadata": {},
     "output_type": "execute_result"
    }
   ],
   "source": [
    "type(img1)"
   ]
  },
  {
   "cell_type": "code",
   "execution_count": 24,
   "metadata": {},
   "outputs": [],
   "source": [
    "cv2.imread?"
   ]
  },
  {
   "cell_type": "code",
   "execution_count": 25,
   "metadata": {},
   "outputs": [],
   "source": [
    "def applyAffineTransform(src, srcTri, dstTri, dsize) :\n",
    "    \"\"\"Short summary.\n",
    "\n",
    "    Parameters\n",
    "    ----------\n",
    "    src : type\n",
    "        Description of parameter `src`.\n",
    "    srcTri : type\n",
    "        Description of parameter `srcTri`.\n",
    "    dstTri : type\n",
    "        Description of parameter `dstTri`.\n",
    "    dsize : type\n",
    "        Description of parameter `dsize`.\n",
    "\n",
    "    Returns\n",
    "    -------\n",
    "    type\n",
    "        Description of returned object.\n",
    "\n",
    "    \"\"\"\n",
    "\n",
    "    # Given a pair of triangles, find the affine transform.\n",
    "    warpMat = cv2.getAffineTransform( np.float32(srcTri), np.float32(dstTri) )\n",
    "\n",
    "    # Apply the Affine Transform just found to the src image\n",
    "    dst = cv2.warpAffine( src, warpMat, (dsize[0], dsize[1]), None, flags=cv2.INTER_LINEAR, borderMode=cv2.BORDER_REFLECT_101 )\n",
    "\n",
    "    return dst"
   ]
  },
  {
   "cell_type": "code",
   "execution_count": 26,
   "metadata": {},
   "outputs": [],
   "source": [
    "\n",
    "def warpTriangle(img1, img2, t1, t2) :\n",
    "    \"\"\"Short summary.\n",
    "\n",
    "    Parameters\n",
    "    ----------\n",
    "    img1 : numpy.ndarray\n",
    "        output of image1 read by opencv.\n",
    "    img2 : numpy.ndarray\n",
    "        output of image2 read by opencv.\n",
    "    t1 : tuple\n",
    "        list of tuple of the triangle points.\n",
    "    t2 : tuple\n",
    "        list of tuple of the triangle points.\n",
    "\n",
    "    Returns\n",
    "    -------\n",
    "    type\n",
    "        Description of returned object.\n",
    "\n",
    "    \"\"\"\n",
    "\n",
    "    # Find bounding rectangle for each triangle\n",
    "    r1 = cv2.boundingRect(np.array(t1))\n",
    "    r2 = cv2.boundingRect(np.array(t2))\n",
    "\n",
    "    # Offset points by left top corner of the respective rectangles\n",
    "    t1Rect = []\n",
    "    t2Rect = []\n",
    "\n",
    "    for i in range(3):\n",
    "        t1Rect.append(((t1[i][0] - r1[0]),(t1[i][1] - r1[1])))\n",
    "        t2Rect.append(((t2[i][0] - r2[0]),(t2[i][1] - r2[1])))\n",
    "\n",
    "    # Apply warpImage to small rectangular patches\n",
    "    img1Rect = img1[r1[1]:r1[1] + r1[3], r1[0]:r1[0] + r1[2]]\n",
    "\n",
    "    size = (r2[2], r2[3])\n",
    "    img2Rect = applyAffineTransform(img1Rect, t1Rect, t2Rect, size)\n",
    "\n",
    "    # Get mask by filling triangle\n",
    "    mask = np.zeros((r2[3], r2[2], 3), dtype = np.float32)\n",
    "    cv2.fillConvexPoly(mask, np.int32(t2Rect), (1.0, 1.0, 1.0));\n",
    "    img2Rect = img2Rect * mask\n",
    "\n",
    "    # Copy triangular region of the rectangular patch to the output image\n",
    "    img2[r2[1]:r2[1]+r2[3], r2[0]:r2[0]+r2[2]] = img2[r2[1]:r2[1]+r2[3], r2[0]:r2[0]+r2[2]] * ( (1.0, 1.0, 1.0) - mask ) + img2Rect\n",
    "    # img2[r2[1]:r2[1]+r2[3], r2[0]:r2[0]+r2[2]] = img2[r2[1]:r2[1]+r2[3], r2[0]:r2[0]+r2[2]] + img2Rect\n"
   ]
  },
  {
   "cell_type": "code",
   "execution_count": 27,
   "metadata": {},
   "outputs": [],
   "source": [
    "def applyWarpTriangle(img1, img2, img1Tri, img2Tri, points1, points2):\n",
    "    \"\"\"compute warp triangles for each triangles of image1 and image2.first find \n",
    "       corresponding landmark points of each triangles from the triangulations \n",
    "       indexes. then warp each triangle of image1 to image2.\n",
    "\n",
    "    Parameters\n",
    "    ----------\n",
    "    img1 : numpy.ndarray\n",
    "        output of image1 read by opencv.\n",
    "    img2 : numpy.ndarray\n",
    "        output of image2 read by opencv.\n",
    "    img2Tri : list\n",
    "        delaunay triangle indexes of image2.\n",
    "    points1 : list\n",
    "        landmark points of image1.\n",
    "    points2 : list\n",
    "        landmark points of image2.\n",
    "\n",
    "    Returns\n",
    "    -------\n",
    "    img2 : numpy.ndarray\n",
    "        warped img1 copied to img2.\n",
    "\n",
    "    \"\"\"\n",
    "\n",
    "    # iterate through each triangles\n",
    "    for i in range(len(img2Tri)):\n",
    "        t1 = []\n",
    "        t2 = []\n",
    "\n",
    "        # iterate through all the three triangle indexes and find t1 and t2\n",
    "        for j in range(3):\n",
    "            t1.append(points1[img1Tri[i][j]])\n",
    "            t2.append(points2[img2Tri[i][j]])\n",
    "\n",
    "        warpTriangle(img1, img2, t1, t2)\n",
    "\n",
    "    return img2"
   ]
  },
  {
   "cell_type": "code",
   "execution_count": 28,
   "metadata": {},
   "outputs": [],
   "source": [
    "img2warped = applyWarpTriangle(img1, img2, triangulation_indexes1, triangulation_indexes2, points1, points2)"
   ]
  },
  {
   "cell_type": "code",
   "execution_count": 32,
   "metadata": {},
   "outputs": [
    {
     "data": {
      "text/plain": [
       "numpy.ndarray"
      ]
     },
     "execution_count": 32,
     "metadata": {},
     "output_type": "execute_result"
    }
   ],
   "source": [
    "type(img2warped)"
   ]
  },
  {
   "cell_type": "code",
   "execution_count": null,
   "metadata": {},
   "outputs": [],
   "source": []
  }
 ],
 "metadata": {
  "kernelspec": {
   "display_name": "Python 3",
   "language": "python",
   "name": "python3"
  },
  "language_info": {
   "codemirror_mode": {
    "name": "ipython",
    "version": 3
   },
   "file_extension": ".py",
   "mimetype": "text/x-python",
   "name": "python",
   "nbconvert_exporter": "python",
   "pygments_lexer": "ipython3",
   "version": "3.6.8"
  }
 },
 "nbformat": 4,
 "nbformat_minor": 2
}
