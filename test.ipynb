{
 "cells": [
  {
   "cell_type": "code",
   "execution_count": 1,
   "metadata": {},
   "outputs": [],
   "source": [
    "# import the necessary libraries\n",
    "import numpy as np\n",
    "import cv2\n",
    "import dlib"
   ]
  },
  {
   "cell_type": "code",
   "execution_count": 2,
   "metadata": {},
   "outputs": [],
   "source": [
    "def landmark_detection(image):\n",
    "    \"\"\"generate facial landmark detection of a give image.\n",
    "\n",
    "    Parameters\n",
    "    ----------\n",
    "    image : str\n",
    "        image file path.\n",
    "\n",
    "    Returns\n",
    "    -------\n",
    "    list\n",
    "        a list of tuple integer.\n",
    "    numpy array\n",
    "        the landmark points draw on the detect face of the image\n",
    "\n",
    "    \"\"\"\n",
    "\n",
    "    # laod an image then convert it to grey scale\n",
    "    img = cv2.imread(image)\n",
    "    img_gray = cv2.cvtColor(img, cv2.COLOR_BGR2GRAY)\n",
    "\n",
    "    # detect the face then find the landmarks\n",
    "    detector = dlib.get_frontal_face_detector()\n",
    "    predictor = dlib.shape_predictor('shape_predictor_68_face_landmarks.dat')\n",
    "\n",
    "    faces = detector(img_gray)\n",
    "    for face in faces:\n",
    "        landmarks = predictor(img_gray, face)\n",
    "        landmark_points = []\n",
    "        for n in range(68):\n",
    "            x = landmarks.part(n).x\n",
    "            y = landmarks.part(n).y\n",
    "            landmark_points.append((int(x), int(y)))\n",
    "\n",
    "            cv2.circle(img, (x, y), 3, (0, 0, 255), -1)\n",
    "\n",
    "\n",
    "    return landmark_points, img"
   ]
  },
  {
   "cell_type": "code",
   "execution_count": 3,
   "metadata": {},
   "outputs": [],
   "source": [
    "def applyConvexHull(points1, points2):\n",
    "    \"\"\"find the convex hull of each landmark points.\n",
    "\n",
    "    Parameters\n",
    "    ----------\n",
    "    points1 : list\n",
    "        a list of tuple integer of landmark points 1.\n",
    "    points2 : list\n",
    "        a list of tuple integer of landmark points 2.\n",
    "\n",
    "    Returns\n",
    "    -------\n",
    "    numpy array\n",
    "        Description of returned object.\n",
    "        \n",
    "    \"\"\"\n",
    "\n",
    "\n",
    "    # Find convex hull of the two landmark points\n",
    "    hull1 = []\n",
    "    hull2 = []\n",
    "\n",
    "    hullIndex = cv2.convexHull(np.array(points2), returnPoints = False)\n",
    "\n",
    "    for i in range(len(hullIndex)):\n",
    "        hull1.append(points1[int(hullIndex[i])])\n",
    "        hull2.append(points2[int(hullIndex[i])])\n",
    "\n",
    "    return hull1, hull2"
   ]
  },
  {
   "cell_type": "code",
   "execution_count": 4,
   "metadata": {},
   "outputs": [],
   "source": [
    "image1 = 'images/original_images/ted_cruz.jpg'\n",
    "image2 = 'images/original_images/26-Nba-memes-13.jpg'"
   ]
  },
  {
   "cell_type": "code",
   "execution_count": 5,
   "metadata": {},
   "outputs": [],
   "source": [
    "# find landmark points of the images\n",
    "landmark_points1, landmarks_img1 = landmark_detection(image1)\n",
    "landmark_points2, landmarks_img2 = landmark_detection(image2)"
   ]
  },
  {
   "cell_type": "code",
   "execution_count": 6,
   "metadata": {},
   "outputs": [],
   "source": [
    "# find the convex hull bounding the landmark points of the images\n",
    "hull1, hull2 = applyConvexHull(landmark_points1, landmark_points2)"
   ]
  },
  {
   "cell_type": "code",
   "execution_count": 8,
   "metadata": {},
   "outputs": [
    {
     "data": {
      "text/plain": [
       "list"
      ]
     },
     "execution_count": 8,
     "metadata": {},
     "output_type": "execute_result"
    }
   ],
   "source": [
    "type(hull1)"
   ]
  },
  {
   "cell_type": "code",
   "execution_count": 10,
   "metadata": {},
   "outputs": [],
   "source": [
    "def approachs(approach, hull1, hull2, landmark_points1, landmark_points2):\n",
    "    \"\"\"use convexHull or landmark_points to calculate delauney triangulation.\n",
    "\n",
    "    Parameters\n",
    "    ----------\n",
    "    approach : str\n",
    "        takes either 'approach1' for convexHUll or 'approach2' for landmark points.\n",
    "    hull1 : list\n",
    "        a list of tuple integer of convex hull points bounding landmark points 1\n",
    "    hull2 : type\n",
    "        a list of tuple integer of convex hull points bounding landmark points 2\n",
    "    landmark_points1 : list\n",
    "        a list of tuple integer of landmark points of image1\n",
    "    landmark_points2 : list\n",
    "        a list of tuple integer of landmark points of image2.\n",
    "\n",
    "    Returns\n",
    "    -------\n",
    "    points1 : list\n",
    "        a list of tuple integer of either hull 1 or landmark points 1.\n",
    "    points2 : list\n",
    "        a list of tuple integer of either hull 2 or landmark points 2.\n",
    "\n",
    "    \"\"\"\n",
    "\n",
    "    # use the two approachs\n",
    "    if approach == \"approach1\":\n",
    "        points1 = hull1\n",
    "        points2 = hull2\n",
    "    else:\n",
    "        points1 = landmark_points1\n",
    "        points2 = landmark_points2\n",
    "\n",
    "    return points1, points2"
   ]
  },
  {
   "cell_type": "code",
   "execution_count": 11,
   "metadata": {},
   "outputs": [],
   "source": [
    "approach = \"approach1\"\n",
    "points1, points2 = approachs(approach, hull1, hull2, landmark_points1, landmark_points2)"
   ]
  },
  {
   "cell_type": "code",
   "execution_count": 12,
   "metadata": {},
   "outputs": [],
   "source": [
    "def calculateDelaunayTriangles(image, points):\n",
    "    \"\"\"Short summary.\n",
    "\n",
    "    Parameters\n",
    "    ----------\n",
    "    image : type\n",
    "        Description of parameter `image`.\n",
    "    points : type\n",
    "        Description of parameter `points`.\n",
    "\n",
    "    Returns\n",
    "    -------\n",
    "    type\n",
    "        Description of returned object.\n",
    "\n",
    "    \"\"\"\n",
    "\n",
    "    img = cv2.imread(image)\n",
    "    rect = (0, 0, img.shape[1], img.shape[0])\n",
    "\n",
    "    subdiv = cv2.Subdiv2D(rect)\n",
    "    subdiv.insert(points)\n",
    "    triangleList = subdiv.getTriangleList()\n",
    "\n",
    "    delaunayTri_indexes = []\n",
    "\n",
    "\n",
    "    for t in triangleList:\n",
    "\n",
    "        pt1 = (t[0], t[1])\n",
    "        pt2 = (t[2], t[3])\n",
    "        pt3 = (t[4], t[5])\n",
    "        pts = [pt1, pt2, pt3]\n",
    "\n",
    "        # draw the Triangulation\n",
    "        cv2.line(img, pt1, pt2, (0, 0, 255), 2)\n",
    "        cv2.line(img, pt2, pt3, (0, 0, 255), 2)\n",
    "        cv2.line(img, pt1, pt3, (0, 0, 255), 2)\n",
    "\n",
    "        index = []\n",
    "        #Get face-points (from 68 face detector) by coordinates\n",
    "        for i in range(3):\n",
    "            for j in range(0, len(points)):\n",
    "                if(pts[i][0] == points[j][0] and pts[i][1] == points[j][1]):\n",
    "                    index.append(j)\n",
    "        # Three points form a triangle\n",
    "        if len(index) == 3:\n",
    "            delaunayTri_indexes.append((index[0], index[1], index[2]))\n",
    "\n",
    "    return delaunayTri_indexes, img"
   ]
  },
  {
   "cell_type": "code",
   "execution_count": 13,
   "metadata": {},
   "outputs": [],
   "source": [
    "# calculate the delauney triangulations\n",
    "triangulation_indexes1, triangulation_img1 = calculateDelaunayTriangles(image1, points1)\n",
    "triangulation_indexes2, triangulation_img2 = calculateDelaunayTriangles(image2, points2)"
   ]
  },
  {
   "cell_type": "code",
   "execution_count": 15,
   "metadata": {},
   "outputs": [
    {
     "data": {
      "text/plain": [
       "list"
      ]
     },
     "execution_count": 15,
     "metadata": {},
     "output_type": "execute_result"
    }
   ],
   "source": [
    "type(triangulation_indexes1)"
   ]
  },
  {
   "cell_type": "code",
   "execution_count": 16,
   "metadata": {},
   "outputs": [
    {
     "data": {
      "text/plain": [
       "numpy.ndarray"
      ]
     },
     "execution_count": 16,
     "metadata": {},
     "output_type": "execute_result"
    }
   ],
   "source": [
    "type(triangulation_img1)"
   ]
  },
  {
   "cell_type": "code",
   "execution_count": 17,
   "metadata": {},
   "outputs": [],
   "source": [
    "def applyAffineTransform(src, srcTri, dstTri, dsize) :\n",
    "\n",
    "    # Given a pair of triangles, find the affine transform.\n",
    "    warpMat = cv2.getAffineTransform( np.float32(srcTri), np.float32(dstTri) )\n",
    "\n",
    "    # Apply the Affine Transform just found to the src image\n",
    "    dst = cv2.warpAffine( src, warpMat, (dsize[0], dsize[1]), None, flags=cv2.INTER_LINEAR, borderMode=cv2.BORDER_REFLECT_101 )\n",
    "\n",
    "    return dst"
   ]
  },
  {
   "cell_type": "code",
   "execution_count": 19,
   "metadata": {},
   "outputs": [
    {
     "name": "stdout",
     "output_type": "stream",
     "text": [
      "Help on built-in function getAffineTransform:\n",
      "\n",
      "getAffineTransform(...)\n",
      "    getAffineTransform(src, dst) -> retval\n",
      "    .   @overload\n",
      "\n"
     ]
    }
   ],
   "source": [
    "help(cv2.getAffineTransform)"
   ]
  },
  {
   "cell_type": "code",
   "execution_count": 21,
   "metadata": {},
   "outputs": [],
   "source": [
    "# load and read the images\n",
    "img1 = cv2.imread(image1)\n",
    "img2 = cv2.imread(image2)\n",
    "img2_original = np.copy(img2)"
   ]
  },
  {
   "cell_type": "code",
   "execution_count": 23,
   "metadata": {},
   "outputs": [
    {
     "data": {
      "text/plain": [
       "numpy.ndarray"
      ]
     },
     "execution_count": 23,
     "metadata": {},
     "output_type": "execute_result"
    }
   ],
   "source": [
    "type(img1)"
   ]
  },
  {
   "cell_type": "code",
   "execution_count": 24,
   "metadata": {},
   "outputs": [],
   "source": [
    "cv2.imread?"
   ]
  },
  {
   "cell_type": "code",
   "execution_count": 25,
   "metadata": {},
   "outputs": [],
   "source": [
    "def applyAffineTransform(src, srcTri, dstTri, dsize) :\n",
    "    \"\"\"Short summary.\n",
    "\n",
    "    Parameters\n",
    "    ----------\n",
    "    src : type\n",
    "        Description of parameter `src`.\n",
    "    srcTri : type\n",
    "        Description of parameter `srcTri`.\n",
    "    dstTri : type\n",
    "        Description of parameter `dstTri`.\n",
    "    dsize : type\n",
    "        Description of parameter `dsize`.\n",
    "\n",
    "    Returns\n",
    "    -------\n",
    "    type\n",
    "        Description of returned object.\n",
    "\n",
    "    \"\"\"\n",
    "\n",
    "    # Given a pair of triangles, find the affine transform.\n",
    "    warpMat = cv2.getAffineTransform( np.float32(srcTri), np.float32(dstTri) )\n",
    "\n",
    "    # Apply the Affine Transform just found to the src image\n",
    "    dst = cv2.warpAffine( src, warpMat, (dsize[0], dsize[1]), None, flags=cv2.INTER_LINEAR, borderMode=cv2.BORDER_REFLECT_101 )\n",
    "\n",
    "    return dst"
   ]
  },
  {
   "cell_type": "code",
   "execution_count": 26,
   "metadata": {},
   "outputs": [],
   "source": [
    "\n",
    "def warpTriangle(img1, img2, t1, t2) :\n",
    "    \"\"\"Short summary.\n",
    "\n",
    "    Parameters\n",
    "    ----------\n",
    "    img1 : numpy.ndarray\n",
    "        output of image1 read by opencv.\n",
    "    img2 : numpy.ndarray\n",
    "        output of image2 read by opencv.\n",
    "    t1 : tuple\n",
    "        list of tuple of the triangle points.\n",
    "    t2 : tuple\n",
    "        list of tuple of the triangle points.\n",
    "\n",
    "    Returns\n",
    "    -------\n",
    "    type\n",
    "        Description of returned object.\n",
    "\n",
    "    \"\"\"\n",
    "\n",
    "    # Find bounding rectangle for each triangle\n",
    "    r1 = cv2.boundingRect(np.array(t1))\n",
    "    r2 = cv2.boundingRect(np.array(t2))\n",
    "\n",
    "    # Offset points by left top corner of the respective rectangles\n",
    "    t1Rect = []\n",
    "    t2Rect = []\n",
    "\n",
    "    for i in range(3):\n",
    "        t1Rect.append(((t1[i][0] - r1[0]),(t1[i][1] - r1[1])))\n",
    "        t2Rect.append(((t2[i][0] - r2[0]),(t2[i][1] - r2[1])))\n",
    "\n",
    "    # Apply warpImage to small rectangular patches\n",
    "    img1Rect = img1[r1[1]:r1[1] + r1[3], r1[0]:r1[0] + r1[2]]\n",
    "\n",
    "    size = (r2[2], r2[3])\n",
    "    img2Rect = applyAffineTransform(img1Rect, t1Rect, t2Rect, size)\n",
    "\n",
    "    # Get mask by filling triangle\n",
    "    mask = np.zeros((r2[3], r2[2], 3), dtype = np.float32)\n",
    "    cv2.fillConvexPoly(mask, np.int32(t2Rect), (1.0, 1.0, 1.0));\n",
    "    img2Rect = img2Rect * mask\n",
    "\n",
    "    # Copy triangular region of the rectangular patch to the output image\n",
    "    img2[r2[1]:r2[1]+r2[3], r2[0]:r2[0]+r2[2]] = img2[r2[1]:r2[1]+r2[3], r2[0]:r2[0]+r2[2]] * ( (1.0, 1.0, 1.0) - mask ) + img2Rect\n",
    "    # img2[r2[1]:r2[1]+r2[3], r2[0]:r2[0]+r2[2]] = img2[r2[1]:r2[1]+r2[3], r2[0]:r2[0]+r2[2]] + img2Rect\n"
   ]
  },
  {
   "cell_type": "code",
   "execution_count": 27,
   "metadata": {},
   "outputs": [],
   "source": [
    "def applyWarpTriangle(img1, img2, img2Tri, points1, points2):\n",
    "    \"\"\"compute warp triangles for each triangles of image1 and image2.first find \n",
    "       corresponding landmark points of each triangles from the triangulations \n",
    "       indexes. then warp each triangle of image1 to image2.\n",
    "\n",
    "    Parameters\n",
    "    ----------\n",
    "    img1 : numpy.ndarray\n",
    "        output of image1 read by opencv.\n",
    "    img2 : numpy.ndarray\n",
    "        output of image2 read by opencv.\n",
    "    img2Tri : list\n",
    "        delaunay triangle indexes of image2.\n",
    "    points1 : list\n",
    "        landmark points of image1.\n",
    "    points2 : list\n",
    "        landmark points of image2.\n",
    "\n",
    "    Returns\n",
    "    -------\n",
    "    img2 : numpy.ndarray\n",
    "        warped img1 copied to img2.\n",
    "\n",
    "    \"\"\"\n",
    "\n",
    "    # iterate through each triangles\n",
    "    for i in range(len(img2Tri)):\n",
    "        t1 = []\n",
    "        t2 = []\n",
    "\n",
    "        # iterate through all the three triangle indexes and find t1 and t2\n",
    "        for j in range(3):\n",
    "            t1.append(points1[img2Tri[i][j]])\n",
    "            t2.append(points2[img2Tri[i][j]])\n",
    "\n",
    "        warpTriangle(img1, img2, t1, t2)\n",
    "\n",
    "    return img2"
   ]
  },
  {
   "cell_type": "code",
   "execution_count": 28,
   "metadata": {},
   "outputs": [],
   "source": [
    "img2warped = applyWarpTriangle(img1, img2, triangulation_indexes2, points1, points2)"
   ]
  },
  {
   "cell_type": "code",
   "execution_count": 32,
   "metadata": {},
   "outputs": [
    {
     "data": {
      "text/plain": [
       "numpy.ndarray"
      ]
     },
     "execution_count": 32,
     "metadata": {},
     "output_type": "execute_result"
    }
   ],
   "source": [
    "type(img2warped)"
   ]
  },
  {
   "cell_type": "code",
   "execution_count": null,
   "metadata": {},
   "outputs": [],
   "source": []
  }
 ],
 "metadata": {
  "kernelspec": {
   "display_name": "Python 3",
   "language": "python",
   "name": "python3"
  },
  "language_info": {
   "codemirror_mode": {
    "name": "ipython",
    "version": 3
   },
   "file_extension": ".py",
   "mimetype": "text/x-python",
   "name": "python",
   "nbconvert_exporter": "python",
   "pygments_lexer": "ipython3",
   "version": "3.6.8"
  }
 },
 "nbformat": 4,
 "nbformat_minor": 2
}
