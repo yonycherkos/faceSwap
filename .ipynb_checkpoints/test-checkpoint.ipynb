{
 "cells": [
  {
   "cell_type": "code",
   "execution_count": 1,
   "metadata": {},
   "outputs": [],
   "source": [
    "from faceSwap import FaceSwap\n",
    "import cv2\n",
    "import numpy as np\n",
    "import dlib"
   ]
  },
  {
   "cell_type": "code",
   "execution_count": 2,
   "metadata": {},
   "outputs": [],
   "source": [
    "image1 = \"images/original_images/yony.jpg\"\n",
    "image2 = \"images/original_images/anchorman.jpg\""
   ]
  },
  {
   "cell_type": "code",
   "execution_count": 3,
   "metadata": {},
   "outputs": [],
   "source": [
    "img1 = cv2.imread(image1)\n",
    "img2 = cv2.imread(image2)\n",
    "img2_original = np.copy(img2)"
   ]
  },
  {
   "cell_type": "code",
   "execution_count": 4,
   "metadata": {},
   "outputs": [],
   "source": [
    "fs = FaceSwap()\n",
    "faces_landmark_points1 = fs.landmark_detection(img1)\n",
    "faces_landmark_points2 = fs.landmark_detection(img2)"
   ]
  },
  {
   "cell_type": "code",
   "execution_count": 5,
   "metadata": {},
   "outputs": [
    {
     "name": "stdout",
     "output_type": "stream",
     "text": [
      "shape of faces_landmark_points1:  (1, 68, 2)\n",
      "shape of faces_landmark_points2:  (5, 68, 2)\n"
     ]
    }
   ],
   "source": [
    "print(\"shape of faces_landmark_points1: \", np.array(faces_landmark_points1).shape)\n",
    "print(\"shape of faces_landmark_points2: \", np.array(faces_landmark_points2).shape)"
   ]
  },
  {
   "cell_type": "code",
   "execution_count": 6,
   "metadata": {},
   "outputs": [
    {
     "data": {
      "text/plain": [
       "(68, 2)"
      ]
     },
     "execution_count": 6,
     "metadata": {},
     "output_type": "execute_result"
    }
   ],
   "source": [
    "np.array(faces_landmark_points1[0]).shape"
   ]
  },
  {
   "cell_type": "code",
   "execution_count": 7,
   "metadata": {},
   "outputs": [
    {
     "data": {
      "text/plain": [
       "(68, 2)"
      ]
     },
     "execution_count": 7,
     "metadata": {},
     "output_type": "execute_result"
    }
   ],
   "source": [
    "np.array(faces_landmark_points2[3]).shape"
   ]
  },
  {
   "cell_type": "code",
   "execution_count": 9,
   "metadata": {},
   "outputs": [
    {
     "name": "stdout",
     "output_type": "stream",
     "text": [
      "(18, 2)\n",
      "(18, 2)\n",
      "---------------------------------\n",
      "(16, 3)\n",
      "(16, 3)\n",
      "---------------------------------\n",
      "\n",
      "\n",
      "\n"
     ]
    }
   ],
   "source": [
    "faces = np.array(faces_landmark_points2).shape[0]\n",
    "faces_hull2 = []\n",
    "x  = 0\n",
    "for face in range(faces):\n",
    "    landmark_points1 = faces_landmark_points1[0]\n",
    "    landmark_points2 = faces_landmark_points2[face]\n",
    "    \n",
    "    # find the convex hull bounding the landmark points of the images\n",
    "    hull1, hull2 = fs.applyConvexHull(landmark_points1, landmark_points2)\n",
    "    if x == 4:\n",
    "        print(np.array(hull1).shape)\n",
    "        print(np.array(hull2).shape)\n",
    "        print(\"---------------------------------\")\n",
    "    \n",
    "    # calculate the delauney triangulations\n",
    "    triangulation_indexes1 = fs.calculateDelaunayTriangles(\n",
    "        img1, hull1)\n",
    "    triangulation_indexes2 = fs.calculateDelaunayTriangles(\n",
    "        img2, hull2)\n",
    "    if x == 4:\n",
    "        print(np.array(triangulation_indexes1).shape)\n",
    "        print(np.array(triangulation_indexes2).shape)\n",
    "        print(\"---------------------------------\")\n",
    "        print(\"\\n\\n\")\n",
    "\n",
    "    img2warped = fs.applyWarpTriangle(\n",
    "        img1, img2, triangulation_indexes2, hull1, hull2)\n",
    "    \n",
    "\n",
    "    swappedImage = fs.applySeamlessClone(\n",
    "        img2warped, img2_original, hull2)\n",
    "    \n",
    "    img2 = swappedImage\n",
    "    fs.showImages(img1, img2_original, swappedImage,\n",
    "                            showOriginalImages=True)\n",
    "    x = x + 1"
   ]
  },
  {
   "cell_type": "code",
   "execution_count": 90,
   "metadata": {},
   "outputs": [
    {
     "data": {
      "text/plain": [
       "(18, 2)"
      ]
     },
     "execution_count": 90,
     "metadata": {},
     "output_type": "execute_result"
    }
   ],
   "source": [
    "np.array(hull2).shape"
   ]
  },
  {
   "cell_type": "code",
   "execution_count": 91,
   "metadata": {},
   "outputs": [
    {
     "data": {
      "text/plain": [
       "(18, 2)"
      ]
     },
     "execution_count": 91,
     "metadata": {},
     "output_type": "execute_result"
    }
   ],
   "source": [
    "np.array(hull1).shape"
   ]
  },
  {
   "cell_type": "code",
   "execution_count": 92,
   "metadata": {},
   "outputs": [],
   "source": [
    "fs.showImages(img1, img2_original, swappedImage,\n",
    "                            showOriginalImages=True)"
   ]
  },
  {
   "cell_type": "code",
   "execution_count": null,
   "metadata": {},
   "outputs": [],
   "source": []
  }
 ],
 "metadata": {
  "kernelspec": {
   "display_name": "Python 3",
   "language": "python",
   "name": "python3"
  },
  "language_info": {
   "codemirror_mode": {
    "name": "ipython",
    "version": 3
   },
   "file_extension": ".py",
   "mimetype": "text/x-python",
   "name": "python",
   "nbconvert_exporter": "python",
   "pygments_lexer": "ipython3",
   "version": "3.7.3"
  }
 },
 "nbformat": 4,
 "nbformat_minor": 2
}
